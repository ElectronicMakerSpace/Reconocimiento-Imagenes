{
 "cells": [
  {
   "cell_type": "code",
   "execution_count": 1,
   "metadata": {},
   "outputs": [
    {
     "name": "stdout",
     "output_type": "stream",
     "text": [
      "TensorFlow Version: 2.1.0\n",
      "Default GPU Device: /device:GPU:0\n"
     ]
    }
   ],
   "source": [
    "from distutils.version import LooseVersion\n",
    "import warnings\n",
    "import tensorflow as tf\n",
    "\n",
    "# Check TensorFlow Version\n",
    "assert LooseVersion(tf.__version__) >= LooseVersion('1.0'), 'Please use TensorFlow version 1.0 or newer.  You are using {}'.format(tf.__version__)\n",
    "print('TensorFlow Version: {}'.format(tf.__version__))\n",
    "\n",
    "# Check for a GPU\n",
    "if not tf.test.gpu_device_name():\n",
    "    warnings.warn('No GPU found. Please ensure you have installed TensorFlow correctly')\n",
    "else:\n",
    "    print('Default GPU Device: {}'.format(tf.test.gpu_device_name()))"
   ]
  },
  {
   "cell_type": "code",
   "execution_count": 2,
   "metadata": {},
   "outputs": [
    {
     "name": "stderr",
     "output_type": "stream",
     "text": [
      "Cloning into 'keras-retinanet'...\n"
     ]
    }
   ],
   "source": [
    "!git clone https://github.com/DavidReveloLuna/keras-retinanet.git"
   ]
  },
  {
   "cell_type": "code",
   "execution_count": 3,
   "metadata": {},
   "outputs": [
    {
     "name": "stdout",
     "output_type": "stream",
     "text": [
      "C:\\Users\\Alienware\\Pictures\\prueba5\\keras-retinanet\n"
     ]
    }
   ],
   "source": [
    "cd keras-retinanet/"
   ]
  },
  {
   "cell_type": "code",
   "execution_count": 4,
   "metadata": {},
   "outputs": [
    {
     "name": "stdout",
     "output_type": "stream",
     "text": [
      "Processing c:\\users\\alienware\\pictures\\prueba5\\keras-retinanet\n",
      "Requirement already satisfied: keras in c:\\users\\alienware\\anaconda3\\envs\\entornogpu\\lib\\site-packages (from keras-retinanet==0.5.1) (2.3.1)\n",
      "Requirement already satisfied: keras-resnet==0.1.0 in c:\\users\\alienware\\anaconda3\\envs\\entornogpu\\lib\\site-packages (from keras-retinanet==0.5.1) (0.1.0)\n",
      "Requirement already satisfied: six in c:\\users\\alienware\\anaconda3\\envs\\entornogpu\\lib\\site-packages (from keras-retinanet==0.5.1) (1.15.0)\n",
      "Requirement already satisfied: scipy in c:\\users\\alienware\\anaconda3\\envs\\entornogpu\\lib\\site-packages (from keras-retinanet==0.5.1) (1.5.0)\n",
      "Requirement already satisfied: cython in c:\\users\\alienware\\anaconda3\\envs\\entornogpu\\lib\\site-packages (from keras-retinanet==0.5.1) (0.29.21)\n",
      "Requirement already satisfied: Pillow in c:\\users\\alienware\\anaconda3\\envs\\entornogpu\\lib\\site-packages (from keras-retinanet==0.5.1) (7.2.0)\n",
      "Requirement already satisfied: opencv-python in c:\\users\\alienware\\anaconda3\\envs\\entornogpu\\lib\\site-packages (from keras-retinanet==0.5.1) (4.5.1.48)\n",
      "Requirement already satisfied: progressbar2 in c:\\users\\alienware\\anaconda3\\envs\\entornogpu\\lib\\site-packages (from keras-retinanet==0.5.1) (3.53.1)\n",
      "Requirement already satisfied: keras-applications>=1.0.6 in c:\\users\\alienware\\anaconda3\\envs\\entornogpu\\lib\\site-packages (from keras->keras-retinanet==0.5.1) (1.0.8)\n",
      "Requirement already satisfied: pyyaml in c:\\users\\alienware\\anaconda3\\envs\\entornogpu\\lib\\site-packages (from keras->keras-retinanet==0.5.1) (5.3.1)\n",
      "Requirement already satisfied: keras-preprocessing>=1.0.5 in c:\\users\\alienware\\anaconda3\\envs\\entornogpu\\lib\\site-packages (from keras->keras-retinanet==0.5.1) (1.1.2)\n",
      "Requirement already satisfied: numpy>=1.9.1 in c:\\users\\alienware\\anaconda3\\envs\\entornogpu\\lib\\site-packages (from keras->keras-retinanet==0.5.1) (1.17.0)\n",
      "Requirement already satisfied: h5py in c:\\users\\alienware\\anaconda3\\envs\\entornogpu\\lib\\site-packages (from keras->keras-retinanet==0.5.1) (2.10.0)\n",
      "Requirement already satisfied: python-utils>=2.3.0 in c:\\users\\alienware\\anaconda3\\envs\\entornogpu\\lib\\site-packages (from progressbar2->keras-retinanet==0.5.1) (2.5.6)\n",
      "Building wheels for collected packages: keras-retinanet\n",
      "  Building wheel for keras-retinanet (setup.py): started\n",
      "  Building wheel for keras-retinanet (setup.py): finished with status 'done'\n",
      "  Created wheel for keras-retinanet: filename=keras_retinanet-0.5.1-cp37-cp37m-win_amd64.whl size=131671 sha256=92c47973f31535ebc1b1a3125f5460b16df65c85c6e86774ac82ab677668059e\n",
      "  Stored in directory: c:\\users\\alienware\\appdata\\local\\pip\\cache\\wheels\\31\\b5\\62\\5222480c5e299d379ee007ec466b711d5e1cd00223a996d7a0\n",
      "Successfully built keras-retinanet\n",
      "Installing collected packages: keras-retinanet\n",
      "  Attempting uninstall: keras-retinanet\n",
      "    Found existing installation: keras-retinanet 0.5.1\n",
      "    Uninstalling keras-retinanet-0.5.1:\n",
      "      Successfully uninstalled keras-retinanet-0.5.1\n"
     ]
    },
    {
     "name": "stderr",
     "output_type": "stream",
     "text": [
      "ERROR: Could not install packages due to an EnvironmentError: [WinError 5] Acceso denegado: 'c:\\\\users\\\\alienware\\\\anaconda3\\\\envs\\\\entornogpu\\\\lib\\\\site-packages\\\\~eras_retinanet\\\\utils\\\\compute_overlap.cp37-win_amd64.pyd'\n",
      "Consider using the `--user` option or check the permissions.\n",
      "\n"
     ]
    },
    {
     "name": "stdout",
     "output_type": "stream",
     "text": [
      "running build_ext\n",
      "skipping 'keras_retinanet/utils\\compute_overlap.c' Cython extension (up-to-date)\n",
      "copying build\\lib.win-amd64-3.7\\keras_retinanet\\utils\\compute_overlap.cp37-win_amd64.pyd -> keras_retinanet\\utils\n"
     ]
    }
   ],
   "source": [
    "!pip install .\n",
    "!python setup.py build_ext --inplace"
   ]
  },
  {
   "cell_type": "code",
   "execution_count": 6,
   "metadata": {},
   "outputs": [
    {
     "name": "stdout",
     "output_type": "stream",
     "text": [
      "C:\\Users\\Alienware\\Pictures\\prueba5\n"
     ]
    }
   ],
   "source": [
    "cd C:\\Users\\Alienware\\Pictures\\prueba5"
   ]
  },
  {
   "cell_type": "code",
   "execution_count": null,
   "metadata": {},
   "outputs": [],
   "source": []
  },
  {
   "cell_type": "code",
   "execution_count": 7,
   "metadata": {},
   "outputs": [],
   "source": [
    "import numpy as np\n",
    "import pandas as pd\n",
    "import seaborn as sns\n",
    "from pylab import rcParams\n",
    "import matplotlib.pyplot as plt\n",
    "from matplotlib import rc\n",
    "from pandas.plotting import register_matplotlib_converters\n",
    "from sklearn.model_selection import train_test_split\n",
    "import urllib\n",
    "import os\n",
    "import csv\n",
    "import cv2\n",
    "import time\n",
    "from PIL import Image\n",
    "\n",
    "from keras_retinanet import models\n",
    "from keras_retinanet.utils.image import read_image_bgr, preprocess_image, resize_image\n",
    "from keras_retinanet.utils.visualization import draw_box, draw_caption\n",
    "from keras_retinanet.utils.colors import label_color"
   ]
  },
  {
   "cell_type": "code",
   "execution_count": 8,
   "metadata": {},
   "outputs": [],
   "source": [
    "from keras_retinanet import models\n",
    "from keras_retinanet.utils.image import read_image_bgr, preprocess_image, resize_image\n",
    "from keras_retinanet.utils.visualization import draw_box, draw_caption\n",
    "from keras_retinanet.utils.colors import label_color"
   ]
  },
  {
   "cell_type": "code",
   "execution_count": 9,
   "metadata": {},
   "outputs": [
    {
     "name": "stdout",
     "output_type": "stream",
     "text": [
      "snapshots\\resnet50_csv_50.h5\n",
      "tracking <tf.Variable 'Variable:0' shape=(9, 4) dtype=float32, numpy=\n",
      "array([[-22.627417, -11.313708,  22.627417,  11.313708],\n",
      "       [-28.50876 , -14.25438 ,  28.50876 ,  14.25438 ],\n",
      "       [-35.918785, -17.959393,  35.918785,  17.959393],\n",
      "       [-16.      , -16.      ,  16.      ,  16.      ],\n",
      "       [-20.158737, -20.158737,  20.158737,  20.158737],\n",
      "       [-25.398417, -25.398417,  25.398417,  25.398417],\n",
      "       [-11.313708, -22.627417,  11.313708,  22.627417],\n",
      "       [-14.25438 , -28.50876 ,  14.25438 ,  28.50876 ],\n",
      "       [-17.959393, -35.918785,  17.959393,  35.918785]], dtype=float32)> anchors\n",
      "tracking <tf.Variable 'Variable:0' shape=(9, 4) dtype=float32, numpy=\n",
      "array([[-45.254833, -22.627417,  45.254833,  22.627417],\n",
      "       [-57.01752 , -28.50876 ,  57.01752 ,  28.50876 ],\n",
      "       [-71.83757 , -35.918785,  71.83757 ,  35.918785],\n",
      "       [-32.      , -32.      ,  32.      ,  32.      ],\n",
      "       [-40.317474, -40.317474,  40.317474,  40.317474],\n",
      "       [-50.796833, -50.796833,  50.796833,  50.796833],\n",
      "       [-22.627417, -45.254833,  22.627417,  45.254833],\n",
      "       [-28.50876 , -57.01752 ,  28.50876 ,  57.01752 ],\n",
      "       [-35.918785, -71.83757 ,  35.918785,  71.83757 ]], dtype=float32)> anchors\n",
      "tracking <tf.Variable 'Variable:0' shape=(9, 4) dtype=float32, numpy=\n",
      "array([[ -90.50967 ,  -45.254833,   90.50967 ,   45.254833],\n",
      "       [-114.03504 ,  -57.01752 ,  114.03504 ,   57.01752 ],\n",
      "       [-143.67514 ,  -71.83757 ,  143.67514 ,   71.83757 ],\n",
      "       [ -64.      ,  -64.      ,   64.      ,   64.      ],\n",
      "       [ -80.63495 ,  -80.63495 ,   80.63495 ,   80.63495 ],\n",
      "       [-101.593666, -101.593666,  101.593666,  101.593666],\n",
      "       [ -45.254833,  -90.50967 ,   45.254833,   90.50967 ],\n",
      "       [ -57.01752 , -114.03504 ,   57.01752 ,  114.03504 ],\n",
      "       [ -71.83757 , -143.67514 ,   71.83757 ,  143.67514 ]],\n",
      "      dtype=float32)> anchors\n",
      "tracking <tf.Variable 'Variable:0' shape=(9, 4) dtype=float32, numpy=\n",
      "array([[-181.01933,  -90.50967,  181.01933,   90.50967],\n",
      "       [-228.07008, -114.03504,  228.07008,  114.03504],\n",
      "       [-287.35028, -143.67514,  287.35028,  143.67514],\n",
      "       [-128.     , -128.     ,  128.     ,  128.     ],\n",
      "       [-161.2699 , -161.2699 ,  161.2699 ,  161.2699 ],\n",
      "       [-203.18733, -203.18733,  203.18733,  203.18733],\n",
      "       [ -90.50967, -181.01933,   90.50967,  181.01933],\n",
      "       [-114.03504, -228.07008,  114.03504,  228.07008],\n",
      "       [-143.67514, -287.35028,  143.67514,  287.35028]], dtype=float32)> anchors\n",
      "tracking <tf.Variable 'Variable:0' shape=(9, 4) dtype=float32, numpy=\n",
      "array([[-362.03867, -181.01933,  362.03867,  181.01933],\n",
      "       [-456.14017, -228.07008,  456.14017,  228.07008],\n",
      "       [-574.70056, -287.35028,  574.70056,  287.35028],\n",
      "       [-256.     , -256.     ,  256.     ,  256.     ],\n",
      "       [-322.5398 , -322.5398 ,  322.5398 ,  322.5398 ],\n",
      "       [-406.37466, -406.37466,  406.37466,  406.37466],\n",
      "       [-181.01933, -362.03867,  181.01933,  362.03867],\n",
      "       [-228.07008, -456.14017,  228.07008,  456.14017],\n",
      "       [-287.35028, -574.70056,  287.35028,  574.70056]], dtype=float32)> anchors\n"
     ]
    }
   ],
   "source": [
    "from keras.models import load_model\n",
    "from keras_retinanet import models\n",
    "\n",
    "model_path = os.path.join('snapshots', sorted(os.listdir('snapshots/'), reverse=True)[0])\n",
    "print(model_path)\n",
    "\n",
    "model = models.load_model(model_path, backbone_name='resnet50')\n",
    "model = models.convert_model(model)\n",
    "\n",
    "labels_to_names = pd.read_csv('classes.csv', header=None).T.loc[0].to_dict()"
   ]
  },
  {
   "cell_type": "code",
   "execution_count": 10,
   "metadata": {},
   "outputs": [],
   "source": [
    "# Función que realizaz la predicción\n",
    "\n",
    "import skimage.io as io\n",
    "\n",
    "def predict(image):\n",
    "    image = preprocess_image(image.copy())\n",
    "    image, scale = resize_image(image)\n",
    "\n",
    "    boxes, scores, labels = model.predict_on_batch(\n",
    "     np.expand_dims(image, axis=0)\n",
    "     )\n",
    "\n",
    "    boxes /= scale\n",
    "\n",
    "    return boxes, scores, labels"
   ]
  },
  {
   "cell_type": "code",
   "execution_count": 14,
   "metadata": {},
   "outputs": [
    {
     "name": "stdout",
     "output_type": "stream",
     "text": [
      "[ 36.13889 132.17258 495.8289  479.40002]\n",
      "[118.618256 115.61525  452.2146   394.08844 ]\n",
      "[ 99.55673 128.99641 496.675   392.23206]\n",
      "[129.74901 124.96983 460.3914  393.72607]\n",
      "[108.89389 121.99285 424.30753 391.983  ]\n",
      "[  0.      151.88992 483.35303 384.6057 ]\n",
      "[  0.      142.17976 489.45554 390.78964]\n",
      "[  0.      149.74771 478.4426  399.94073]\n",
      "[  0.      137.43796 476.79993 407.64822]\n",
      "[  0.      142.54727 477.36597 408.84625]\n",
      "[ 35.334557  52.220207 396.19327  357.97635 ]\n",
      "[  8.6653   53.39585 394.73154 378.71768]\n",
      "[  0.        54.920765 396.94244  370.98715 ]\n",
      "[  0.        62.828766 389.5462   382.1255  ]\n",
      "[105.701904 134.72804  394.09012  479.40002 ]\n",
      "[108.46884 150.44167 402.26776 479.40002]\n",
      "[ 92.30651  84.40504 380.92026 479.40002]\n",
      "[ 16.001312  48.21035  479.89227  399.14716 ]\n",
      "[ 28.700722  50.116142 561.10474  434.2213  ]\n",
      "[ 37.937805  48.77894  560.541    431.56628 ]\n",
      "[ 25.450773  49.187096 546.24225  437.8617  ]\n",
      "[ 20.148249  43.56621  537.0908   427.57928 ]\n"
     ]
    }
   ],
   "source": [
    "# Captura de Video\n",
    "camera = cv2.VideoCapture(0)\n",
    "camera_height = 500\n",
    "\n",
    "while(True):\n",
    "\n",
    "    _, frame = camera.read()\n",
    "    \n",
    "\n",
    "    frame = cv2.flip(frame, 1)\n",
    "\n",
    "    boxes, scores, labels = predict(frame)\n",
    "\n",
    "    draw = frame.copy()\n",
    "\n",
    "\n",
    "    for box, score, label in zip(boxes[0], scores[0], labels[0]):\n",
    "        if score > 0.8:\n",
    "            print(box)\n",
    "            b = box.astype(int)\n",
    "            color = label_color(label)\n",
    "            draw_box(draw, b, color=color)\n",
    "            caption = \"{} {:.3f}\".format(labels_to_names[label], score)\n",
    "            draw_caption(draw, b, caption)\n",
    "            \n",
    "\n",
    "    # show the frame\n",
    "    cv2.imshow(\"Test out\", draw)\n",
    "\n",
    "\n",
    "    key = cv2.waitKey(1)\n",
    "\n",
    "    # quit camera if 'q' key is pressed\n",
    "    if key & 0xFF == ord(\"q\"):\n",
    "        break\n",
    "\n",
    "camera.release()\n",
    "cv2.destroyAllWindows()"
   ]
  },
  {
   "cell_type": "code",
   "execution_count": null,
   "metadata": {},
   "outputs": [],
   "source": []
  },
  {
   "cell_type": "code",
   "execution_count": null,
   "metadata": {},
   "outputs": [],
   "source": []
  },
  {
   "cell_type": "code",
   "execution_count": null,
   "metadata": {},
   "outputs": [],
   "source": []
  }
 ],
 "metadata": {
  "kernelspec": {
   "display_name": "Python 3",
   "language": "python",
   "name": "python3"
  },
  "language_info": {
   "codemirror_mode": {
    "name": "ipython",
    "version": 3
   },
   "file_extension": ".py",
   "mimetype": "text/x-python",
   "name": "python",
   "nbconvert_exporter": "python",
   "pygments_lexer": "ipython3",
   "version": "3.7.7"
  }
 },
 "nbformat": 4,
 "nbformat_minor": 4
}
