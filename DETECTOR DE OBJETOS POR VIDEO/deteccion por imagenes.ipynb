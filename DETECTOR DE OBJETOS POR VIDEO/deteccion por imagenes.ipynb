{
 "cells": [
  {
   "cell_type": "code",
   "execution_count": 1,
   "metadata": {},
   "outputs": [],
   "source": [
    "import numpy as np\n",
    "import pandas as pd\n",
    "import seaborn as sns\n",
    "from pylab import rcParams\n",
    "import matplotlib.pyplot as plt\n",
    "from matplotlib import rc\n",
    "from pandas.plotting import register_matplotlib_converters\n",
    "from sklearn.model_selection import train_test_split\n",
    "import urllib\n",
    "import os\n",
    "import csv\n",
    "import cv2\n",
    "import time\n",
    "from PIL import Image"
   ]
  },
  {
   "cell_type": "code",
   "execution_count": 20,
   "metadata": {},
   "outputs": [
    {
     "name": "stderr",
     "output_type": "stream",
     "text": [
      "Cloning into 'keras-retinanet'...\n"
     ]
    }
   ],
   "source": [
    "!git clone https://github.com/DavidReveloLuna/keras-retinanet.git"
   ]
  },
  {
   "cell_type": "code",
   "execution_count": null,
   "metadata": {},
   "outputs": [],
   "source": []
  },
  {
   "cell_type": "code",
   "execution_count": 2,
   "metadata": {},
   "outputs": [
    {
     "name": "stdout",
     "output_type": "stream",
     "text": [
      "C:\\Users\\Alienware\\Pictures\\prueba5\\keras-retinanet\n"
     ]
    }
   ],
   "source": [
    "cd keras-retinanet/"
   ]
  },
  {
   "cell_type": "code",
   "execution_count": 5,
   "metadata": {},
   "outputs": [
    {
     "name": "stdout",
     "output_type": "stream",
     "text": [
      "C:\\Users\\Alienware\\Pictures\\prueba5\n"
     ]
    }
   ],
   "source": [
    "cd C:\\Users\\Alienware\\Pictures\\prueba5"
   ]
  },
  {
   "cell_type": "code",
   "execution_count": 37,
   "metadata": {},
   "outputs": [],
   "source": [
    "from keras_retinanet import models\n",
    "from keras_retinanet.utils.image import read_image_bgr, preprocess_image, resize_image\n",
    "from keras_retinanet.utils.visualization import draw_box, draw_caption\n",
    "from keras_retinanet.utils.colors import label_color\n"
   ]
  },
  {
   "cell_type": "code",
   "execution_count": 38,
   "metadata": {},
   "outputs": [
    {
     "name": "stdout",
     "output_type": "stream",
     "text": [
      "snapshots\\resnet50_csv_50.h5\n",
      "tracking <tf.Variable 'Variable:0' shape=(9, 4) dtype=float32, numpy=\n",
      "array([[-22.627417, -11.313708,  22.627417,  11.313708],\n",
      "       [-28.50876 , -14.25438 ,  28.50876 ,  14.25438 ],\n",
      "       [-35.918785, -17.959393,  35.918785,  17.959393],\n",
      "       [-16.      , -16.      ,  16.      ,  16.      ],\n",
      "       [-20.158737, -20.158737,  20.158737,  20.158737],\n",
      "       [-25.398417, -25.398417,  25.398417,  25.398417],\n",
      "       [-11.313708, -22.627417,  11.313708,  22.627417],\n",
      "       [-14.25438 , -28.50876 ,  14.25438 ,  28.50876 ],\n",
      "       [-17.959393, -35.918785,  17.959393,  35.918785]], dtype=float32)> anchors\n",
      "tracking <tf.Variable 'Variable:0' shape=(9, 4) dtype=float32, numpy=\n",
      "array([[-45.254833, -22.627417,  45.254833,  22.627417],\n",
      "       [-57.01752 , -28.50876 ,  57.01752 ,  28.50876 ],\n",
      "       [-71.83757 , -35.918785,  71.83757 ,  35.918785],\n",
      "       [-32.      , -32.      ,  32.      ,  32.      ],\n",
      "       [-40.317474, -40.317474,  40.317474,  40.317474],\n",
      "       [-50.796833, -50.796833,  50.796833,  50.796833],\n",
      "       [-22.627417, -45.254833,  22.627417,  45.254833],\n",
      "       [-28.50876 , -57.01752 ,  28.50876 ,  57.01752 ],\n",
      "       [-35.918785, -71.83757 ,  35.918785,  71.83757 ]], dtype=float32)> anchors\n",
      "tracking <tf.Variable 'Variable:0' shape=(9, 4) dtype=float32, numpy=\n",
      "array([[ -90.50967 ,  -45.254833,   90.50967 ,   45.254833],\n",
      "       [-114.03504 ,  -57.01752 ,  114.03504 ,   57.01752 ],\n",
      "       [-143.67514 ,  -71.83757 ,  143.67514 ,   71.83757 ],\n",
      "       [ -64.      ,  -64.      ,   64.      ,   64.      ],\n",
      "       [ -80.63495 ,  -80.63495 ,   80.63495 ,   80.63495 ],\n",
      "       [-101.593666, -101.593666,  101.593666,  101.593666],\n",
      "       [ -45.254833,  -90.50967 ,   45.254833,   90.50967 ],\n",
      "       [ -57.01752 , -114.03504 ,   57.01752 ,  114.03504 ],\n",
      "       [ -71.83757 , -143.67514 ,   71.83757 ,  143.67514 ]],\n",
      "      dtype=float32)> anchors\n",
      "tracking <tf.Variable 'Variable:0' shape=(9, 4) dtype=float32, numpy=\n",
      "array([[-181.01933,  -90.50967,  181.01933,   90.50967],\n",
      "       [-228.07008, -114.03504,  228.07008,  114.03504],\n",
      "       [-287.35028, -143.67514,  287.35028,  143.67514],\n",
      "       [-128.     , -128.     ,  128.     ,  128.     ],\n",
      "       [-161.2699 , -161.2699 ,  161.2699 ,  161.2699 ],\n",
      "       [-203.18733, -203.18733,  203.18733,  203.18733],\n",
      "       [ -90.50967, -181.01933,   90.50967,  181.01933],\n",
      "       [-114.03504, -228.07008,  114.03504,  228.07008],\n",
      "       [-143.67514, -287.35028,  143.67514,  287.35028]], dtype=float32)> anchors\n",
      "tracking <tf.Variable 'Variable:0' shape=(9, 4) dtype=float32, numpy=\n",
      "array([[-362.03867, -181.01933,  362.03867,  181.01933],\n",
      "       [-456.14017, -228.07008,  456.14017,  228.07008],\n",
      "       [-574.70056, -287.35028,  574.70056,  287.35028],\n",
      "       [-256.     , -256.     ,  256.     ,  256.     ],\n",
      "       [-322.5398 , -322.5398 ,  322.5398 ,  322.5398 ],\n",
      "       [-406.37466, -406.37466,  406.37466,  406.37466],\n",
      "       [-181.01933, -362.03867,  181.01933,  362.03867],\n",
      "       [-228.07008, -456.14017,  228.07008,  456.14017],\n",
      "       [-287.35028, -574.70056,  287.35028,  574.70056]], dtype=float32)> anchors\n"
     ]
    }
   ],
   "source": [
    "# Cargamos el modelo\n",
    "# debe estar en la carpeta /snapshots/\n",
    "from keras.models import load_model\n",
    "from keras_retinanet import models\n",
    "\n",
    "model_path = os.path.join('snapshots', sorted(os.listdir('snapshots'), reverse=True)[0])\n",
    "print(model_path)\n",
    "\n",
    "model = models.load_model(model_path, backbone_name='resnet50')\n",
    "model = models.convert_model(model)\n",
    "\n",
    "labels_to_names = pd.read_csv('classes.csv', header=None).T.loc[0].to_dict()\n"
   ]
  },
  {
   "cell_type": "code",
   "execution_count": 39,
   "metadata": {},
   "outputs": [],
   "source": [
    "# Función que realizaz la predicción\n",
    "\n",
    "import skimage.io as io\n",
    "\n",
    "def predict(image):\n",
    "    image = preprocess_image(image.copy())\n",
    "    image, scale = resize_image(image)\n",
    "\n",
    "    boxes, scores, labels = model.predict_on_batch(\n",
    "     np.expand_dims(image, axis=0)\n",
    "     )\n",
    "\n",
    "    boxes /= scale\n",
    "\n",
    "    return boxes, scores, labels"
   ]
  },
  {
   "cell_type": "code",
   "execution_count": 40,
   "metadata": {},
   "outputs": [],
   "source": [
    "\n",
    "# Captura de Video\n",
    "#amera = cv2.VideoCapture(0)\n",
    "\n",
    "#amera_height = 500\n",
    "\n",
    "#or i in [0,1,2]:\n",
    "\n",
    "\n",
    "   #_, frame = camera.read()\n",
    "    \n",
    "\n",
    "   #frame = cv2.flip(frame, 1)\n",
    "\n",
    "    #oxes, scores, labels = predict(frame)\n",
    "\n",
    "   #draw = frame.copy()\n",
    "\n",
    "\n",
    "    #or box, score, label in zip(boxes[0], scores[0], labels[0]):\n",
    "        #f score > 0.8:\n",
    "            #rint(box)\n",
    "            # = box.astype(int)\n",
    "            #olor = label_color(label)\n",
    "            #raw_box(draw, b, color=color)\n",
    "            #aption = \"{} {:.3f}\".format(labels_to_names[label], score)\n",
    "            #raw_caption(draw, b, caption)\n",
    "            \n",
    "\n",
    "    # show the frame\n",
    "    #v2.imshow(\"Test out\", draw)\n",
    "\n",
    "\n",
    "   #key = cv2.waitKey(1)\n",
    "\n",
    "    # quit camera if 'q' key is pressed\n",
    "    #f key & 0xFF == ord(\"q\"):\n",
    "        #reak\n",
    "\n",
    "#amera.release()\n",
    "#v2.destroyAllWindows()"
   ]
  },
  {
   "cell_type": "code",
   "execution_count": 41,
   "metadata": {},
   "outputs": [
    {
     "name": "stdout",
     "output_type": "stream",
     "text": [
      "C:\\Users\\Alienware\\Pictures\\prueba5\n"
     ]
    }
   ],
   "source": [
    "cd C:\\Users\\Alienware\\Pictures\\prueba5"
   ]
  },
  {
   "cell_type": "code",
   "execution_count": 95,
   "metadata": {},
   "outputs": [
    {
     "name": "stdout",
     "output_type": "stream",
     "text": [
      "no se detecto intente de nuevo\n"
     ]
    }
   ],
   "source": [
    "img=cv2.imread('mano.jpeg')\n",
    "cv2.imshow('imagen',img)###cargar imagen\n",
    "\n",
    "boxes, scores, labels = predict(img)\n",
    "draw = img.copy()\n",
    "\n",
    "for box, score, label in zip(boxes[0], scores[0], labels[0]):\n",
    "        if score > 0.8:\n",
    "            print(box)\n",
    "            b = box.astype(int)\n",
    "            color = label_color(label)\n",
    "            draw_box(draw, b, color=color)\n",
    "            caption = \"{} {:.3f}\".format(labels_to_names[label], score)\n",
    "            draw_caption(draw, b, caption) \n",
    "            cv2.imshow('imagen',draw)\n",
    "            \n",
    "            #cv2.imwrite('j.jpg',draw)##guardar imagen\n",
    "\n",
    "\n",
    "            #cv2.waitKey(0)##sirve para cerrar la imagen\n",
    "            print('se ha detectado:')\n",
    "            detect=label\n",
    "            if label==0:\n",
    "                print(\"Rasberry pi 4\")\n",
    "            if label==1:\n",
    "                print('protoboar')\n",
    "            cv2.waitKey(0)##sirve para cerrar la imagen\n",
    "            break\n",
    "            \n",
    "            \n",
    "        else:\n",
    "            cv2.imshow('imagen',img)###cargar image\n",
    "            print('no se detecto intente de nuevo')\n",
    "            cv2.waitKey(0)\n",
    "            break\n",
    "            \n",
    "        "
   ]
  },
  {
   "cell_type": "code",
   "execution_count": 93,
   "metadata": {},
   "outputs": [],
   "source": [
    "cv2.destroyAllWindows()"
   ]
  },
  {
   "cell_type": "code",
   "execution_count": null,
   "metadata": {},
   "outputs": [],
   "source": []
  },
  {
   "cell_type": "code",
   "execution_count": null,
   "metadata": {},
   "outputs": [],
   "source": [
    " "
   ]
  },
  {
   "cell_type": "code",
   "execution_count": null,
   "metadata": {},
   "outputs": [],
   "source": []
  }
 ],
 "metadata": {
  "kernelspec": {
   "display_name": "Python 3",
   "language": "python",
   "name": "python3"
  },
  "language_info": {
   "codemirror_mode": {
    "name": "ipython",
    "version": 3
   },
   "file_extension": ".py",
   "mimetype": "text/x-python",
   "name": "python",
   "nbconvert_exporter": "python",
   "pygments_lexer": "ipython3",
   "version": "3.7.7"
  }
 },
 "nbformat": 4,
 "nbformat_minor": 4
}
